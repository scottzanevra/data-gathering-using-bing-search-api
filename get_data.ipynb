{
 "cells": [
  {
   "cell_type": "code",
   "execution_count": 3,
   "metadata": {
    "pycharm": {
     "is_executing": false
    }
   },
   "outputs": [],
   "source": [
    "!pip install -Uqq fastbook\n",
    "import fastbook"
   ]
  },
  {
   "cell_type": "code",
   "execution_count": 4,
   "metadata": {
    "pycharm": {
     "is_executing": false,
     "name": "#%%\n"
    }
   },
   "outputs": [],
   "source": [
    "#hide\n",
    "from fastbook import *\n",
    "from fastai.vision.widgets import *"
   ]
  },
  {
   "cell_type": "markdown",
   "metadata": {},
   "source": [
    "To download images with Bing Image Search, sign up at [Microsoft Azure](https://azure.microsoft.com/en-us/services/cognitive-services/bing-web-search-api/) for a free account. You will be given a key, which you can copy and enter in a cell as follows (replacing 'XXX' with your key and executing it):"
   ]
  },
  {
   "cell_type": "code",
   "execution_count": null,
   "metadata": {
    "pycharm": {
     "is_executing": false,
     "name": "#%%\n"
    }
   },
   "outputs": [],
   "source": [
    "key = os.environ.get('AZURE_SEARCH_KEY', 'XXX')\n"
   ]
  },
  {
   "cell_type": "code",
   "execution_count": null,
   "metadata": {
    "pycharm": {
     "is_executing": false,
     "name": "#%%\n"
    }
   },
   "outputs": [],
   "source": [
    "search_images_bing"
   ]
  },
  {
   "cell_type": "code",
   "execution_count": null,
   "metadata": {
    "pycharm": {
     "is_executing": false,
     "name": "#%%\n"
    }
   },
   "outputs": [],
   "source": [
    "results = search_images_bing(key, 'grizzly bear')\n",
    "ims = results.attrgot('contentUrl')\n",
    "len(ims)\n"
   ]
  },
  {
   "cell_type": "markdown",
   "metadata": {},
   "source": [
    "We've successfully downloaded the URLs of 150 grizzly bears (or, at least, images that Bing Image Search finds for that search term).\n",
    "\n",
    "**NB**: there's no way to be sure exactly what images a search like this will find. The results can change over time. We've heard of at least one case of a community member who found some unpleasant pictures of dead bears in their search results. You'll receive whatever images are found by the web search engine. If you're running this at work, or with kids, etc, then be cautious before you display the downloaded images.\n",
    "\n",
    "Let's look at one:"
   ]
  },
  {
   "cell_type": "code",
   "execution_count": null,
   "metadata": {
    "pycharm": {
     "is_executing": false,
     "name": "#%%\n"
    }
   },
   "outputs": [],
   "source": [
    "#hide\n",
    "ims = ['http://3.bp.blogspot.com/-S1scRCkI3vY/UHzV2kucsPI/AAAAAAAAA-k/YQ5UzHEm9Ss/s1600/Grizzly%2BBear%2BWildlife.jpg']"
   ]
  },
  {
   "cell_type": "code",
   "execution_count": null,
   "metadata": {
    "pycharm": {
     "is_executing": false,
     "name": "#%%\n"
    }
   },
   "outputs": [],
   "source": [
    "dest = 'images/grizzly.jpg'\n",
    "download_url(ims[0], dest)"
   ]
  },
  {
   "cell_type": "code",
   "execution_count": null,
   "metadata": {
    "pycharm": {
     "is_executing": false,
     "name": "#%%\n"
    }
   },
   "outputs": [],
   "source": [
    "im = Image.open(dest)\n",
    "im.to_thumb(128,128)\n"
   ]
  },
  {
   "cell_type": "code",
   "execution_count": null,
   "metadata": {
    "pycharm": {
     "is_executing": false,
     "name": "#%%\n"
    }
   },
   "outputs": [],
   "source": [
    "lable_types = 'aws logo','aws jumper','aws tshirt', 'aws hat', 'people'\n",
    "path = Path('logoDetector')"
   ]
  },
  {
   "cell_type": "code",
   "execution_count": null,
   "metadata": {
    "pycharm": {
     "is_executing": false,
     "name": "#%%\n"
    }
   },
   "outputs": [],
   "source": [
    "if not path.exists():\n",
    "    path.mkdir()\n",
    "    for o in bear_types:\n",
    "        dest = (path/o)\n",
    "        dest.mkdir(exist_ok=True)\n",
    "        results = search_images_bing(key, f'{o} bear')\n",
    "        download_images(dest, urls=results.attrgot('contentUrl'))"
   ]
  },
  {
   "cell_type": "markdown",
   "metadata": {},
   "source": [
    "Our folder has image files, as we'd expect:"
   ]
  },
  {
   "cell_type": "code",
   "execution_count": null,
   "metadata": {
    "pycharm": {
     "is_executing": false,
     "name": "#%%\n"
    }
   },
   "outputs": [],
   "source": [
    "fns = get_image_files(path)\n",
    "fns\n"
   ]
  },
  {
   "cell_type": "markdown",
   "metadata": {},
   "source": [
    "> j: I just love this about working in Jupyter notebooks! It's so easy to gradually build what I want, and check my work every step of the way. I make a _lot_ of mistakes, so this is really helpful to me..."
   ]
  },
  {
   "cell_type": "markdown",
   "metadata": {},
   "source": [
    "Often when we download files from the internet, there are a few that are corrupt. Let's check:"
   ]
  },
  {
   "cell_type": "code",
   "execution_count": null,
   "metadata": {
    "pycharm": {
     "is_executing": false,
     "name": "#%%\n"
    }
   },
   "outputs": [],
   "source": [
    "failed = verify_images(fns)\n",
    "failed\n"
   ]
  },
  {
   "cell_type": "markdown",
   "metadata": {},
   "source": [
    "To remove all the failed images, you can use `unlink` on each of them. Note that, like most fastai functions that return a collection, `verify_images` returns an object of type `L`, which includes the `map` method. This calls the passed function on each element of the collection:"
   ]
  },
  {
   "cell_type": "code",
   "execution_count": null,
   "metadata": {
    "pycharm": {
     "is_executing": false,
     "name": "#%%\n"
    }
   },
   "outputs": [],
   "source": [
    "failed.map(Path.unlink);"
   ]
  },
  {
   "cell_type": "code",
   "execution_count": null,
   "metadata": {},
   "outputs": [],
   "source": [
    "s3 = boto3.resource('s3')"
   ]
  },
  {
   "cell_type": "code",
   "execution_count": null,
   "metadata": {},
   "outputs": [],
   "source": [
    "def file_exists_in_s3(s3bucket, s3key):\n",
    "    try:\n",
    "        s3.meta.client.head_object(Bucket=s3bucket, Key=s3key)\n",
    "        return True\n",
    "    except ClientError as e:\n",
    "        if e.response[\"Error\"][\"Code\"] == '404':\n",
    "            return False\n",
    "        else:\n",
    "            print (e.response[\"Error\"])\n",
    "            raise e"
   ]
  },
  {
   "cell_type": "code",
   "execution_count": null,
   "metadata": {},
   "outputs": [],
   "source": [
    "def download_file_from_s3(uri, working_dir):\n",
    "    fname = uri.split('/')[-1]\n",
    "    image_local_path = os.path.join(working_dir, fname)\n",
    "    s3_paths = urlparse(uri)\n",
    "    s3_bucket = s3_paths.netloc\n",
    "    s3_key = s3_paths.path.lstrip('/')\n",
    "    s3.Bucket(s3_bucket).download_file(s3_key, image_local_path)\n",
    "    return image_local_path"
   ]
  },
  {
   "cell_type": "code",
   "execution_count": null,
   "metadata": {},
   "outputs": [],
   "source": [
    "\n",
    "def upload_file_to_s3(image_local_path, s3_bucket, s3_prefix):\n",
    "    fname = image_local_path.split('/')[-1]\n",
    "    s3_key = s3_prefix + \"/\" + fname\n",
    "    s3.Bucket(s3_bucket).upload_file(image_local_path, s3_prefix + \"/\" + fname)\n",
    "    logger.info(\"wrote to s3://{}/{}\".format(s3_bucket, s3_key))"
   ]
  },
  {
   "cell_type": "code",
   "execution_count": null,
   "metadata": {},
   "outputs": [],
   "source": [
    "\n",
    "from enum import Enum\n",
    "\n",
    "class Transform(Enum):\n",
    "    X_FLIP = 0\n",
    "    Y_FLIP = 1\n",
    "    CW_ROTATE = 2\n",
    "    CCW_ROTATE = 3\n",
    "    \n",
    "\n",
    "def flip(image_local_path, working_dir, x_axis=True):\n",
    "    img = imageio.imread(image_local_path)\n",
    "    flipped_image = cv2.flip(img, 1 if x_axis else 0)\n",
    "    fname = os.path.split(image_local_path)[1]\n",
    "\n",
    "    # If original file is \"test-1.jpg\", a x-flipped file will be named \"test-1-x-flip.jpg\"\n",
    "    flipped_fname_suffix = '-x-flip.' if x_axis else '-y-flip.'\n",
    "    flipped_fname = fname.replace('.', flipped_fname_suffix)\n",
    "\n",
    "    flipped_fpath = os.path.join(working_dir, flipped_fname)\n",
    "    imageio.imwrite(flipped_fpath, flipped_image)\n",
    "    logger.info(\"wrote image to {}\".format(flipped_fpath))\n",
    "    return flipped_fpath\n",
    "\n",
    "\n",
    "def rotate(image_local_path, working_dir, cw=True):\n",
    "    img = imageio.imread(image_local_path)\n",
    "    rotated = cv2.transpose(img)\n",
    "    rotated = cv2.flip(rotated, 1 if cw else 0)\n",
    "    fname = os.path.split(image_local_path)[1]\n",
    "\n",
    "    # If original file is \"test-1.jpg\", a cw rotated file will be named \"test-1-cw-rotate.jpg\"\n",
    "    rotated_fname_suffix = \"-cw-rotate.\" if cw else '-ccw-rotate.'\n",
    "    rotated_fname = fname.replace('.', rotated_fname_suffix)\n",
    "\n",
    "    rotated_fpath = os.path.join(working_dir, rotated_fname)\n",
    "    imageio.imwrite(rotated_fpath, rotated)\n",
    "    logger.info(\"wrote image to {}\".format(rotated_fpath))\n",
    "    return rotated_fpath\n",
    "\n",
    "\n",
    "def transform_and_upload(transformation, image_path, working_directory, s3_bucket, s3_prefix, cleanup):\n",
    "    \n",
    "    if transformation is Transform.X_FLIP:\n",
    "        transformed = flip(image_path, working_directory, x_axis=True)\n",
    "    elif transformation is Transform.Y_FLIP:\n",
    "        transformed = flip(image_path, working_directory, x_axis=False)\n",
    "    elif transformation is Transform.CW_ROTATE:\n",
    "        transformed = rotate(image_path, working_directory, cw=True)\n",
    "    else:\n",
    "        transformed = rotate(image_path, working_directory, cw=False)\n",
    "    utils.upload_file(transformed, s3_bucket, s3_prefix)\n",
    "    if cleanup:\n",
    "        os.remove(transformed)\n",
    "\n",
    "\n",
    "def transform_img(img_s3_uri, working_directory, output_s3_bucket, cleanup=True):\n",
    "    o = urlparse(img_s3_uri)\n",
    "    s3_bucket = o.netloc\n",
    "    s3_key = o.path.lstrip('/')\n",
    "\n",
    "    img_fname = os.path.split(s3_key)[1]\n",
    "    img_id = os.path.splitext(img_fname)[0]\n",
    "    logger.info(\"image: {}\".format(img_id))\n",
    "\n",
    "    img_ccw = 'frames/ccw/' + img_id + '-ccw-rotate.jpg'\n",
    "    \n",
    "    if utils.exists_in_s3(output_s3_bucket, img_ccw):\n",
    "        logger.info(\"augmentation already exists: s3://{}/{}\".format(output_s3_bucket, img_ccw))\n",
    "    else:\n",
    "        logger.info(\"augmentation does not exist: s3://{}/{}\".format(output_s3_bucket, img_ccw))\n",
    "        image_path = utils.download_file(img_s3_uri, working_directory)\n",
    "        transform_and_upload(transformation=Transform.X_FLIP, image_path=image_path,\n",
    "                             working_directory=working_directory, s3_bucket=output_s3_bucket, s3_prefix='frames/x-flipped',\n",
    "                             cleanup=cleanup)\n",
    "        transform_and_upload(transformation=Transform.Y_FLIP, image_path=image_path,\n",
    "                             working_directory=working_directory, s3_bucket=output_s3_bucket, s3_prefix='frames/y-flipped',\n",
    "                             cleanup=cleanup)\n",
    "        transform_and_upload(transformation=Transform.CW_ROTATE, image_path=image_path,\n",
    "                             working_directory=working_directory, s3_bucket=output_s3_bucket, s3_prefix='frames/cw',\n",
    "                             cleanup=cleanup)\n",
    "        transform_and_upload(transformation=Transform.CCW_ROTATE, image_path=image_path,\n",
    "                             working_directory=working_directory, s3_bucket=output_s3_bucket, s3_prefix='frames/ccw',\n",
    "                             cleanup=cleanup)\n",
    "        if cleanup:\n",
    "            os.remove(image_path)"
   ]
  }
 ],
 "metadata": {
  "kernelspec": {
   "display_name": "Python 3",
   "language": "python",
   "name": "python3"
  },
  "language_info": {
   "codemirror_mode": {
    "name": "ipython",
    "version": 3
   },
   "file_extension": ".py",
   "mimetype": "text/x-python",
   "name": "python",
   "nbconvert_exporter": "python",
   "pygments_lexer": "ipython3",
   "version": "3.6.8"
  },
  "pycharm": {
   "stem_cell": {
    "cell_type": "raw",
    "metadata": {
     "collapsed": false
    },
    "source": []
   }
  }
 },
 "nbformat": 4,
 "nbformat_minor": 1
}
